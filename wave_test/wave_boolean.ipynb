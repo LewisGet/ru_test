{
 "cells": [
  {
   "cell_type": "code",
   "execution_count": 1,
   "metadata": {
    "collapsed": true
   },
   "outputs": [],
   "source": [
    "from scipy.io import wavfile\n",
    "import matplotlib.pyplot as plt\n",
    "import numpy as np\n",
    "import os\n",
    "import random"
   ]
  },
  {
   "cell_type": "code",
   "execution_count": 2,
   "metadata": {
    "collapsed": true
   },
   "outputs": [],
   "source": [
    "data_connect_size = 128\n",
    "\n",
    "def y_encode(data):\n",
    "    encode_data = []\n",
    "    \n",
    "    #is negative number\n",
    "    \n",
    "    for i in data:\n",
    "        if i < 0:\n",
    "            tmp = [0, 0, 1]\n",
    "        elif i == 0:\n",
    "            tmp = [0, 1, 0]\n",
    "        else:\n",
    "            tmp = [1, 0, 0]\n",
    "        \n",
    "        \n",
    "        encode_data.append(tmp)\n",
    "            \n",
    "    return np.array(encode_data)\n",
    "\n",
    "def predict_decode(data):\n",
    "    index = np.array(data).argmax()\n",
    "    \n",
    "    if index == 0:\n",
    "        return 1\n",
    "    elif index == 1:\n",
    "        return 0\n",
    "    \n",
    "    return -1\n",
    "\n",
    "def data_decode(data):\n",
    "    min_number = np.average(data)\n",
    "    decode_data = []\n",
    "    \n",
    "    for i in data:\n",
    "        tmp = i - min_number\n",
    "        \n",
    "        if tmp > 0:\n",
    "            decode_data.append(tmp)\n",
    "        else:\n",
    "            decode_data.append(tmp * -1)\n",
    "            \n",
    "    return np.array(decode_data)\n",
    "\n",
    "def lstm_boolean_data_encode(dataset):\n",
    "    dataset = np.array(dataset, copy=True)\n",
    "    new_dataset = []\n",
    "    data_connect_size = 128\n",
    "    \n",
    "    for index, data in enumerate(dataset):\n",
    "        connect_index = index - data_connect_size\n",
    "        connect_index = 0 if connect_index < 0 else connect_index\n",
    "        connect_dataset = np.array(dataset[connect_index + 1: index + 1], copy=True)\n",
    "        \n",
    "        now_connect_dataset_size = len(connect_dataset)\n",
    "        \n",
    "        diff_size = now_connect_dataset_size - data_connect_size\n",
    "        \n",
    "        if diff_size < 0:\n",
    "            update_dataset = np.zeros(data_connect_size)\n",
    "            update_dataset[diff_size * -1:] = connect_dataset[:]\n",
    "            \n",
    "            connect_dataset = update_dataset\n",
    "        \n",
    "        new_dataset.append(connect_dataset.reshape(data_connect_size, 1))\n",
    "        \n",
    "    return np.array(new_dataset)"
   ]
  },
  {
   "cell_type": "code",
   "execution_count": 3,
   "metadata": {
    "collapsed": true
   },
   "outputs": [],
   "source": [
    "max_length = 0"
   ]
  },
  {
   "cell_type": "code",
   "execution_count": null,
   "metadata": {
    "collapsed": true
   },
   "outputs": [],
   "source": []
  },
  {
   "cell_type": "code",
   "execution_count": 4,
   "metadata": {},
   "outputs": [
    {
     "name": "stderr",
     "output_type": "stream",
     "text": [
      "/usr/local/lib/python3.4/dist-packages/scipy/io/wavfile.py:273: WavFileWarning: Chunk (non-data) not understood, skipping it.\n",
      "  WavFileWarning)\n"
     ]
    }
   ],
   "source": [
    "y_rate, y_data = [[None] * 2] * 2\n",
    "\n",
    "for i in range(2):\n",
    "    file_path = os.sep.join([os.path.expanduser(\"~lewis\"), \"wave_test\", \"dataset\", str(i + 1) + \".wav\"]);\n",
    "    y_rate[i], y_data[i] = wavfile.read(file_path)\n",
    "    \n",
    "    if y_data[i].shape[0] > max_length:\n",
    "        max_length = y_data[i].shape[0]"
   ]
  },
  {
   "cell_type": "code",
   "execution_count": 5,
   "metadata": {},
   "outputs": [
    {
     "name": "stderr",
     "output_type": "stream",
     "text": [
      "/usr/local/lib/python3.4/dist-packages/scipy/io/wavfile.py:273: WavFileWarning: Chunk (non-data) not understood, skipping it.\n",
      "  WavFileWarning)\n"
     ]
    }
   ],
   "source": [
    "x_rate, x_data = [[None] * 4] * 2\n",
    "test_x_data = [None] * 4\n",
    "\n",
    "for i in range(4):\n",
    "    file_path = os.sep.join([os.path.expanduser(\"~lewis\"), \"wave_test\", \"dataset\", \"1\", str(i + 1) + \".wav\"]);\n",
    "    x_rate[i], x_data[i] = wavfile.read(file_path)\n",
    "    \n",
    "    if x_data[i].shape[0] > max_length:\n",
    "        max_length = x_data[i].shape[0]"
   ]
  },
  {
   "cell_type": "code",
   "execution_count": 6,
   "metadata": {
    "collapsed": true
   },
   "outputs": [],
   "source": [
    "# y format\n",
    "\n",
    "data_format = np.zeros([max_length])\n",
    "\n",
    "for i, data in enumerate(y_data):\n",
    "    tmp_format = np.array(data_format, copy=True)\n",
    "    tmp_boolean_format = np.array(data_format, copy=True)\n",
    "    # 轉為單聲到，且切齊最常時間檔案\n",
    "    tmp_format[:len(y_data[i])] = [i[0] for i in y_data[i]]\n",
    "    \n",
    "    y_data[i] = y_encode(tmp_format)\n",
    "    \n",
    "y_data = np.array(y_data)"
   ]
  },
  {
   "cell_type": "code",
   "execution_count": 7,
   "metadata": {
    "collapsed": true
   },
   "outputs": [],
   "source": [
    "# x format\n",
    "\n",
    "data_format = np.zeros([max_length])\n",
    "\n",
    "for i, data in enumerate(x_data):\n",
    "    tmp_format = np.array(data_format, copy=True)\n",
    "    tmp_boolean_format = np.array(data_format, copy=True)\n",
    "    # 轉為單聲到，且切齊最常時間檔案\n",
    "    tmp_format[:len(x_data[i])] = [i[0] for i in x_data[i]]\n",
    "    \n",
    "    test_x_data[i] = np.array(tmp_format, copy=True)\n",
    "    \n",
    "    x_data[i] = lstm_boolean_data_encode(tmp_format)\n",
    "    \n",
    "x_data = np.array(x_data)"
   ]
  },
  {
   "cell_type": "code",
   "execution_count": 8,
   "metadata": {
    "scrolled": false
   },
   "outputs": [
    {
     "data": {
      "text/plain": [
       "(2, 28814, 3)"
      ]
     },
     "execution_count": 8,
     "metadata": {},
     "output_type": "execute_result"
    }
   ],
   "source": [
    "y_data.shape"
   ]
  },
  {
   "cell_type": "code",
   "execution_count": 9,
   "metadata": {},
   "outputs": [
    {
     "data": {
      "text/plain": [
       "(4, 28814, 128, 1)"
      ]
     },
     "execution_count": 9,
     "metadata": {},
     "output_type": "execute_result"
    }
   ],
   "source": [
    "x_data.shape"
   ]
  },
  {
   "cell_type": "code",
   "execution_count": 10,
   "metadata": {
    "collapsed": true
   },
   "outputs": [],
   "source": [
    "X = x_data"
   ]
  },
  {
   "cell_type": "code",
   "execution_count": 11,
   "metadata": {
    "collapsed": true
   },
   "outputs": [],
   "source": [
    "Y = np.array([y_data[0]] * 4)"
   ]
  },
  {
   "cell_type": "code",
   "execution_count": 12,
   "metadata": {},
   "outputs": [
    {
     "data": {
      "text/plain": [
       "(4, 28814, 128, 1)"
      ]
     },
     "execution_count": 12,
     "metadata": {},
     "output_type": "execute_result"
    }
   ],
   "source": [
    "X.shape"
   ]
  },
  {
   "cell_type": "code",
   "execution_count": 13,
   "metadata": {},
   "outputs": [
    {
     "data": {
      "text/plain": [
       "(4, 28814, 3)"
      ]
     },
     "execution_count": 13,
     "metadata": {},
     "output_type": "execute_result"
    }
   ],
   "source": [
    "Y.shape"
   ]
  },
  {
   "cell_type": "code",
   "execution_count": null,
   "metadata": {
    "collapsed": true
   },
   "outputs": [],
   "source": []
  },
  {
   "cell_type": "code",
   "execution_count": 14,
   "metadata": {},
   "outputs": [
    {
     "data": {
      "text/plain": [
       "28814"
      ]
     },
     "execution_count": 14,
     "metadata": {},
     "output_type": "execute_result"
    }
   ],
   "source": [
    "max_length"
   ]
  },
  {
   "cell_type": "code",
   "execution_count": 15,
   "metadata": {},
   "outputs": [
    {
     "data": {
      "text/plain": [
       "128"
      ]
     },
     "execution_count": 15,
     "metadata": {},
     "output_type": "execute_result"
    }
   ],
   "source": [
    "data_connect_size"
   ]
  },
  {
   "cell_type": "code",
   "execution_count": 16,
   "metadata": {
    "collapsed": true
   },
   "outputs": [],
   "source": [
    "import tflearn"
   ]
  },
  {
   "cell_type": "code",
   "execution_count": 17,
   "metadata": {
    "collapsed": true
   },
   "outputs": [],
   "source": [
    "net = tflearn.input_data(shape=[None, 128, 1])\n",
    "net = tflearn.lstm(net, 128, return_seq=True)\n",
    "net = tflearn.lstm(net, 128)\n",
    "net = tflearn.fully_connected(net, 3, activation='softmax')\n",
    "net = tflearn.regression(net, optimizer='adam',\n",
    "                         loss='categorical_crossentropy', name=\"output1\")\n",
    "model = tflearn.DNN(net, tensorboard_verbose=2)"
   ]
  },
  {
   "cell_type": "code",
   "execution_count": 18,
   "metadata": {
    "collapsed": true
   },
   "outputs": [],
   "source": [
    "#model.load(\"test_wave_mod\")"
   ]
  },
  {
   "cell_type": "code",
   "execution_count": 19,
   "metadata": {},
   "outputs": [
    {
     "name": "stdout",
     "output_type": "stream",
     "text": [
      "Training Step: 32479  | total loss: \u001b[1m\u001b[32m0.50652\u001b[0m\u001b[0m | time: 38.508s\n",
      "| Adam | epoch: 080 | loss: 0.50652 - acc: 0.6876 -- iter: 25920/25932\n",
      "Training Step: 32480  | total loss: \u001b[1m\u001b[32m0.50814\u001b[0m\u001b[0m | time: 39.871s\n",
      "| Adam | epoch: 080 | loss: 0.50814 - acc: 0.6751 | val_loss: 0.51720 - val_acc: 0.6530 -- iter: 25932/25932\n",
      "--\n"
     ]
    }
   ],
   "source": [
    "for i in range(40):\n",
    "    file_id = i % 4\n",
    "\n",
    "    fit_x = X[file_id]\n",
    "    fit_y = Y[file_id]\n",
    "\n",
    "    model.fit(fit_x, fit_y, n_epoch=2, validation_set=0.1, show_metric=True,\n",
    "          snapshot_step=100)"
   ]
  },
  {
   "cell_type": "code",
   "execution_count": 20,
   "metadata": {},
   "outputs": [
    {
     "name": "stdout",
     "output_type": "stream",
     "text": [
      "INFO:tensorflow:/home/lewis/wave_test/wave_boolean_128_lstm is not in all_model_checkpoint_paths. Manually adding it.\n",
      "WARNING:tensorflow:Error encountered when serializing layer_tensor/LSTM.\n",
      "Type is unsupported, or the types of the items don't match field type in CollectionDef.\n",
      "'list' object has no attribute 'name'\n"
     ]
    }
   ],
   "source": [
    "model.save(\"wave_boolean_128_lstm\")"
   ]
  },
  {
   "cell_type": "code",
   "execution_count": 21,
   "metadata": {
    "collapsed": true
   },
   "outputs": [],
   "source": [
    "predict = model.predict(X[0])"
   ]
  },
  {
   "cell_type": "code",
   "execution_count": 22,
   "metadata": {
    "collapsed": true
   },
   "outputs": [],
   "source": [
    "values = []\n",
    "\n",
    "for i in predict:\n",
    "    values.append(predict_decode(i))\n",
    "    \n",
    "values = np.array(values)\n",
    "\n",
    "np.save(\"wave_boolean_lstm.npy\", values)"
   ]
  },
  {
   "cell_type": "code",
   "execution_count": 23,
   "metadata": {},
   "outputs": [
    {
     "data": {
      "image/png": "[encoded data removed]",
      "text/plain": [
       "<matplotlib.figure.Figure at 0x7f8ff89e4b00>"
      ]
     },
     "metadata": {},
     "output_type": "display_data"
    }
   ],
   "source": [
    "plt.figure(1)\n",
    "plt.title('wave_data_predict')\n",
    "plt.plot(values)\n",
    "plt.show()"
   ]
  },
  {
   "cell_type": "code",
   "execution_count": 14,
   "metadata": {},
   "outputs": [
    {
     "data": {
      "image/png": "[encoded data removed]",
      "text/plain": [
       "<matplotlib.figure.Figure at 0x7f82ce931908>"
      ]
     },
     "metadata": {},
     "output_type": "display_data"
    }
   ],
   "source": [
    "test = np.load(\"test_wave.npy\")\n",
    "\n",
    "plt.figure(1)\n",
    "plt.title('wave_data_predict')\n",
    "plt.plot(test)\n",
    "plt.show()"
   ]
  },
  {
   "cell_type": "code",
   "execution_count": 26,
   "metadata": {},
   "outputs": [
    {
     "data": {
      "text/plain": [
       "array([ 0.00897217,  0.0088501 ,  0.00869751, ...,  0.        ,\n",
       "        0.        ,  0.        ])"
      ]
     },
     "execution_count": 26,
     "metadata": {},
     "output_type": "execute_result"
    }
   ],
   "source": [
    "boolean_value = np.load(\"wave_boolean_lstm.npy\")\n",
    "\n",
    "test_build = test * boolean_value\n",
    "test_build = np.array(test_build)\n",
    "test_build = test_build + test_x_data[3].reshape(max_length)\n",
    "test_build"
   ]
  },
  {
   "cell_type": "code",
   "execution_count": 27,
   "metadata": {},
   "outputs": [
    {
     "data": {
      "image/png": "[encoded data removed]",
      "text/plain": [
       "<matplotlib.figure.Figure at 0x7f82cdcc8cf8>"
      ]
     },
     "metadata": {},
     "output_type": "display_data"
    }
   ],
   "source": [
    "plt.figure(1)\n",
    "plt.title('wave_data_predict')\n",
    "plt.plot(test_build)\n",
    "plt.show()"
   ]
  },
  {
   "cell_type": "code",
   "execution_count": 28,
   "metadata": {
    "collapsed": true
   },
   "outputs": [],
   "source": [
    "test_build_output = []\n",
    "\n",
    "for i in test_build:\n",
    "    a = i * 1000\n",
    "    test_build_output.append([a, a])\n"
   ]
  },
  {
   "cell_type": "code",
   "execution_count": null,
   "metadata": {
    "collapsed": true
   },
   "outputs": [],
   "source": []
  },
  {
   "cell_type": "code",
   "execution_count": 24,
   "metadata": {},
   "outputs": [
    {
     "data": {
      "image/png": "[encoded data removed]",
      "text/plain": [
       "<matplotlib.figure.Figure at 0x7f82cde26f60>"
      ]
     },
     "metadata": {},
     "output_type": "display_data"
    }
   ],
   "source": [
    "plt.figure(1)\n",
    "plt.title('wave_data_predict')\n",
    "plt.plot(test_build_output)\n",
    "plt.show()"
   ]
  },
  {
   "cell_type": "code",
   "execution_count": 25,
   "metadata": {
    "collapsed": true
   },
   "outputs": [],
   "source": [
    "wavfile.write(\"test.wav\", 44100, np.array(test_build_output, dtype=np.float32))"
   ]
  },
  {
   "cell_type": "code",
   "execution_count": null,
   "metadata": {
    "collapsed": true
   },
   "outputs": [],
   "source": []
  },
  {
   "cell_type": "code",
   "execution_count": null,
   "metadata": {
    "collapsed": true
   },
   "outputs": [],
   "source": []
  }
 ],
 "metadata": {
  "kernelspec": {
   "display_name": "Python 3",
   "language": "python",
   "name": "python3"
  },
  "language_info": {
   "codemirror_mode": {
    "name": "ipython",
    "version": 3
   },
   "file_extension": ".py",
   "mimetype": "text/x-python",
   "name": "python",
   "nbconvert_exporter": "python",
   "pygments_lexer": "ipython3",
   "version": "3.4.3"
  }
 },
 "nbformat": 4,
 "nbformat_minor": 2
}
