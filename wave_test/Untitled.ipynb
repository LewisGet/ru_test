{
 "cells": [
  {
   "cell_type": "code",
   "execution_count": 28,
   "metadata": {
    "collapsed": true
   },
   "outputs": [],
   "source": [
    "from scipy.io import wavfile\n",
    "import matplotlib.pyplot as plt\n",
    "import numpy as np\n",
    "import cv2\n",
    "import os\n",
    "import random\n",
    "import time\n",
    "from glob import glob"
   ]
  },
  {
   "cell_type": "code",
   "execution_count": 65,
   "metadata": {
    "collapsed": true
   },
   "outputs": [],
   "source": [
    "def over_pitch (value):\n",
    "    if value > 128000:\n",
    "        return 128000\n",
    "    elif value < -128000:\n",
    "        return -128000\n",
    "    \n",
    "    return value"
   ]
  },
  {
   "cell_type": "code",
   "execution_count": 66,
   "metadata": {},
   "outputs": [
    {
     "name": "stdout",
     "output_type": "stream",
     "text": [
      "48000 kevin_wave/跟妳不一樣.wav\n"
     ]
    }
   ],
   "source": [
    "wave_files = glob(\"kevin_wave/*.wav\")\n",
    "\n",
    "x_wave = []\n",
    "\"\"\"\n",
    "for index, file in enumerate(wave_files):\n",
    "    _, contents = wavfile.read(file)\n",
    "    \n",
    "    x_wave = x_wave + [i[0] for i in contents]\n",
    "    \n",
    "\"\"\"\n",
    "\n",
    "format_value, contents = wavfile.read(wave_files[0])\n",
    "\n",
    "print (format_value, wave_files[0])\n",
    "\n",
    "x_wave = x_wave + [over_pitch(i[0]) for i in contents]"
   ]
  },
  {
   "cell_type": "code",
   "execution_count": 67,
   "metadata": {},
   "outputs": [],
   "source": [
    "wavfile.write(\"test.wav\", 48000, np.array(x_wave))"
   ]
  },
  {
   "cell_type": "code",
   "execution_count": null,
   "metadata": {
    "collapsed": true
   },
   "outputs": [],
   "source": []
  }
 ],
 "metadata": {
  "kernelspec": {
   "display_name": "Python 3",
   "language": "python",
   "name": "python3"
  },
  "language_info": {
   "codemirror_mode": {
    "name": "ipython",
    "version": 3
   },
   "file_extension": ".py",
   "mimetype": "text/x-python",
   "name": "python",
   "nbconvert_exporter": "python",
   "pygments_lexer": "ipython3",
   "version": "3.4.3"
  }
 },
 "nbformat": 4,
 "nbformat_minor": 2
}
