{
 "cells": [
  {
   "cell_type": "code",
   "execution_count": 1,
   "metadata": {
    "collapsed": true
   },
   "outputs": [],
   "source": [
    "from scipy.io import wavfile\n",
    "import matplotlib.pyplot as plt\n",
    "import numpy as np\n",
    "import cv2\n",
    "import os\n",
    "import random\n",
    "import time\n",
    "from glob import glob"
   ]
  },
  {
   "cell_type": "code",
   "execution_count": 2,
   "metadata": {
    "collapsed": true
   },
   "outputs": [],
   "source": [
    "wave_point = 256\n",
    "\n",
    "y_size = int(wave_point * 3)\n",
    "x_size = int(y_size / 4)\n",
    "zip_y_size = int(y_size / 2)"
   ]
  },
  {
   "cell_type": "code",
   "execution_count": 3,
   "metadata": {
    "collapsed": true
   },
   "outputs": [],
   "source": [
    "def data_gap_format(data):\n",
    "    hight_pitch, low_pitch, gap = 0, 0, 0\n",
    "\n",
    "    for i in data:\n",
    "        if i > hight_pitch and i > 0:\n",
    "            hight_pitch = i\n",
    "        if i < low_pitch and i < 0:\n",
    "            low_pitch = i\n",
    "\n",
    "    gap = hight_pitch if hight_pitch > (low_pitch * -1) else (low_pitch * -1)\n",
    "\n",
    "    return hight_pitch, low_pitch, gap, [i / gap for i in data]\n",
    "\n",
    "def data_gap_resize(data, gap):\n",
    "    return [i * gap for i in data]"
   ]
  },
  {
   "cell_type": "code",
   "execution_count": 4,
   "metadata": {
    "collapsed": true
   },
   "outputs": [],
   "source": [
    "def int_to_matrix(value_int, gap):\n",
    "    if value_int == 0:\n",
    "        return [0, 128 / gap, 0]\n",
    "    if value_int > 0:\n",
    "        return [value_int, 0, 0]\n",
    "    if value_int < 0:\n",
    "        return [0, 0, value_int * -1]\n",
    "    \n",
    "    return 0\n",
    "    # return [0, 128 / gap, 0] if value_int == 0 else [value_int, 0, 0] if value_int > 0 else [0, 0, value_int * -1]\n",
    "\n",
    "def matrix_to_int(matrix_int, gap):\n",
    "    value = np.amax(matrix_int)\n",
    "    index = list(matrix_int).index(value)\n",
    "    \n",
    "    if index == 0:\n",
    "        return value * gap\n",
    "    if index == 1:\n",
    "        return 0\n",
    "    if index == 2:\n",
    "        return value * gap * -1\n",
    "    \n",
    "    return 0"
   ]
  },
  {
   "cell_type": "code",
   "execution_count": 5,
   "metadata": {
    "collapsed": true
   },
   "outputs": [],
   "source": [
    "def pick_x_data(dataset):\n",
    "    return [dataset[i] for i in range(0, len(dataset), 4)]\n",
    "\n",
    "def pick_wave_data(dataset, index):\n",
    "    return dataset[index - wave_point: index]"
   ]
  },
  {
   "cell_type": "code",
   "execution_count": 6,
   "metadata": {
    "collapsed": true
   },
   "outputs": [],
   "source": [
    "# wave data load\n",
    "\n",
    "wave_files = glob(\"kevin_wave/*.wav\")\n",
    "\n",
    "x_wave = []\n",
    "\n",
    "for index, file in enumerate(wave_files):\n",
    "    _, contents = wavfile.read(file)\n",
    "\n",
    "    x_wave = x_wave + [i[0] for i in contents]\n",
    "    \n",
    "hight_pitch, low_pitch, gap, x_wave = data_gap_format(x_wave)\n",
    "\n",
    "x_wave = np.array(x_wave)"
   ]
  },
  {
   "cell_type": "code",
   "execution_count": 7,
   "metadata": {
    "collapsed": true
   },
   "outputs": [],
   "source": [
    "import tensorflow as tf\n",
    "import tflearn"
   ]
  },
  {
   "cell_type": "code",
   "execution_count": null,
   "metadata": {
    "collapsed": true
   },
   "outputs": [],
   "source": [
    "x = tflearn.input_data(shape=[None, y_size], name='disc_input')\n",
    "\n",
    "with tf.variable_scope('Discriminator', reuse=reuse):\n",
    "    x = tflearn.fully_connected(x, zip_y_size, activation='relu')\n",
    "    x = tflearn.fully_connected(x, 1, activation='sigmoid')\n",
    "    \n",
    "    "
   ]
  }
 ],
 "metadata": {
  "kernelspec": {
   "display_name": "Python 3",
   "language": "python",
   "name": "python3"
  },
  "language_info": {
   "codemirror_mode": {
    "name": "ipython",
    "version": 3
   },
   "file_extension": ".py",
   "mimetype": "text/x-python",
   "name": "python",
   "nbconvert_exporter": "python",
   "pygments_lexer": "ipython3",
   "version": "3.4.3"
  }
 },
 "nbformat": 4,
 "nbformat_minor": 2
}
