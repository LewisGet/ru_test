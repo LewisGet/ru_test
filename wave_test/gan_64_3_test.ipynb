{
 "cells": [
  {
   "cell_type": "code",
   "execution_count": 1,
   "metadata": {
    "collapsed": true
   },
   "outputs": [],
   "source": [
    "from scipy.io import wavfile\n",
    "import matplotlib.pyplot as plt\n",
    "import numpy as np\n",
    "import cv2\n",
    "import os\n",
    "import random\n",
    "import time\n",
    "from glob import glob"
   ]
  },
  {
   "cell_type": "code",
   "execution_count": 2,
   "metadata": {
    "collapsed": true
   },
   "outputs": [],
   "source": [
    "wave_point = 256\n",
    "\n",
    "y_size = int(wave_point * 3)\n",
    "x_size = int(y_size / 4)\n",
    "zip_y_size = int(y_size / 2)"
   ]
  },
  {
   "cell_type": "code",
   "execution_count": 3,
   "metadata": {
    "collapsed": true
   },
   "outputs": [],
   "source": [
    "def data_gap_format(data):\n",
    "    hight_pitch, low_pitch, gap = 0, 0, 0\n",
    "\n",
    "    for i in data:\n",
    "        if i > hight_pitch and i > 0:\n",
    "            hight_pitch = i\n",
    "        if i < low_pitch and i < 0:\n",
    "            low_pitch = i\n",
    "\n",
    "    gap = hight_pitch if hight_pitch > (low_pitch * -1) else (low_pitch * -1)\n",
    "\n",
    "    return hight_pitch, low_pitch, gap, [i / gap for i in data]\n",
    "\n",
    "def data_gap_resize(data, gap):\n",
    "    return [i * gap for i in data]"
   ]
  },
  {
   "cell_type": "code",
   "execution_count": 4,
   "metadata": {
    "collapsed": true
   },
   "outputs": [],
   "source": [
    "def int_to_matrix(value_int, gap):\n",
    "    if value_int == 0:\n",
    "        return [0, 128 / gap, 0]\n",
    "    if value_int > 0:\n",
    "        return [value_int, 0, 0]\n",
    "    if value_int < 0:\n",
    "        return [0, 0, value_int * -1]\n",
    "    \n",
    "    return 0\n",
    "    # return [0, 128 / gap, 0] if value_int == 0 else [value_int, 0, 0] if value_int > 0 else [0, 0, value_int * -1]\n",
    "\n",
    "def matrix_to_int(matrix_int, gap):\n",
    "    value = np.amax(matrix_int)\n",
    "    index = list(matrix_int).index(value)\n",
    "    \n",
    "    if index == 0:\n",
    "        return value * gap\n",
    "    if index == 1:\n",
    "        return 0\n",
    "    if index == 2:\n",
    "        return value * gap * -1\n",
    "    \n",
    "    return 0"
   ]
  },
  {
   "cell_type": "code",
   "execution_count": 5,
   "metadata": {
    "collapsed": true
   },
   "outputs": [],
   "source": [
    "def pick_x_data(dataset):\n",
    "    return [dataset[i] for i in range(0, len(dataset), 4)]\n",
    "\n",
    "def pick_wave_data(dataset, index):\n",
    "    return dataset[index - wave_point: index]"
   ]
  },
  {
   "cell_type": "code",
   "execution_count": 6,
   "metadata": {
    "collapsed": true
   },
   "outputs": [],
   "source": [
    "# def view_predict_input(dataset):\n",
    "#     return np.array([[i, 0, 0, 0] for i in dataset]).reshape(len(dataset * 4))"
   ]
  },
  {
   "cell_type": "code",
   "execution_count": 7,
   "metadata": {
    "collapsed": true
   },
   "outputs": [],
   "source": [
    "# wave data load\n",
    "\n",
    "wave_files = glob(\"kevin_wave/*.wav\")\n",
    "\n",
    "x_wave = []\n",
    "\n",
    "for index, file in enumerate(wave_files):\n",
    "    _, contents = wavfile.read(file)\n",
    "\n",
    "    x_wave = x_wave + [i[0] for i in contents]\n",
    "    \n",
    "hight_pitch, low_pitch, gap, x_wave = data_gap_format(x_wave)\n",
    "\n",
    "x_wave = np.array(x_wave)\n",
    "np.save(\"gan_64_x_tmp_save.npy\", x_wave)"
   ]
  },
  {
   "cell_type": "code",
   "execution_count": 8,
   "metadata": {
    "collapsed": true
   },
   "outputs": [],
   "source": [
    "# # load default data\n",
    "\n",
    "# hight_pitch, low_pitch, gap = 24811, -26038, 26038\n",
    "\n",
    "# x_wave = np.load(\"gan_64_x_tmp_save.npy\")\n",
    "# x_wave = x_wave.tolist()"
   ]
  },
  {
   "cell_type": "code",
   "execution_count": 9,
   "metadata": {
    "collapsed": true
   },
   "outputs": [],
   "source": [
    "# tensorflow\n",
    "\n",
    "import tensorflow as tf\n",
    "import tflearn"
   ]
  },
  {
   "cell_type": "code",
   "execution_count": 10,
   "metadata": {
    "collapsed": true
   },
   "outputs": [],
   "source": [
    "# Generator\n",
    "def generator(x, reuse=False):\n",
    "    with tf.variable_scope('Generator', reuse=reuse):\n",
    "        x = tflearn.fully_connected(x, zip_y_size, activation='relu')\n",
    "        x = tflearn.fully_connected(x, y_size, activation='sigmoid')\n",
    "        return x\n",
    "\n",
    "\n",
    "# Discriminator\n",
    "def discriminator(x, reuse=False):\n",
    "    with tf.variable_scope('Discriminator', reuse=reuse):\n",
    "        x = tflearn.fully_connected(x, zip_y_size, activation='relu')\n",
    "        x = tflearn.fully_connected(x, 1, activation='sigmoid')\n",
    "        return x"
   ]
  },
  {
   "cell_type": "code",
   "execution_count": 11,
   "metadata": {
    "collapsed": true
   },
   "outputs": [],
   "source": [
    "gen_input = tflearn.input_data(shape=[None, x_size], name='input_noise')\n",
    "disc_input = tflearn.input_data(shape=[None, y_size], name='disc_input')\n",
    "\n",
    "gen_sample = generator(gen_input)\n",
    "disc_real = discriminator(disc_input)\n",
    "disc_fake = discriminator(gen_sample, reuse=True)\n",
    "\n",
    "# Define Loss\n",
    "disc_loss = -tf.reduce_mean(tf.log(disc_real) + tf.log(1. - disc_fake))\n",
    "gen_loss = -tf.reduce_mean(tf.log(disc_fake))\n",
    "\n",
    "gen_vars = tflearn.get_layer_variables_by_scope('Generator')\n",
    "gen_model = tflearn.regression(gen_sample, placeholder=None, optimizer='adam',\n",
    "                               loss=gen_loss, trainable_vars=gen_vars,\n",
    "                               batch_size=64, name='target_gen', op_name='GEN')\n",
    "disc_vars = tflearn.get_layer_variables_by_scope('Discriminator')\n",
    "disc_model = tflearn.regression(disc_real, placeholder=None, optimizer='adam',\n",
    "                                loss=disc_loss, trainable_vars=disc_vars,\n",
    "                                batch_size=64, name='target_disc', op_name='DISC')\n",
    "\n",
    "gan = tflearn.DNN(gen_model)"
   ]
  },
  {
   "cell_type": "code",
   "execution_count": 12,
   "metadata": {},
   "outputs": [
    {
     "name": "stdout",
     "output_type": "stream",
     "text": [
      "Training Step: 97599  | total loss: \u001b[1m\u001b[32mnan\u001b[0m\u001b[0m | time: 0.067s\n",
      "| GEN | epoch: 6100 | loss: nan -- iter: 0960/1001\n",
      "| DISC | epoch: 6100 | loss: nan -- iter: 0960/1001\n",
      "Training Step: 97600  | total loss: \u001b[1m\u001b[32mnan\u001b[0m\u001b[0m | time: 0.072s\n",
      "| GEN | epoch: 6100 | loss: nan -- iter: 1001/1001\n",
      "| DISC | epoch: 6100 | loss: nan -- iter: 1001/1001\n",
      "--\n",
      "INFO:tensorflow:/home/lewis/wave_test/tmp_gan_64_save is not in all_model_checkpoint_paths. Manually adding it.\n",
      "auto save\n"
     ]
    }
   ],
   "source": [
    "X = []\n",
    "Y = []\n",
    "auto_save_time = 10\n",
    "last_time_save = time.time()\n",
    "\n",
    "for i in range(len(x_wave)):\n",
    "    this_data = pick_wave_data(x_wave, i)\n",
    "    \n",
    "    if (np.all(np.array(this_data)==0)):\n",
    "        continue\n",
    "    \n",
    "    tmp_y = np.array([int_to_matrix(i, gap) for i in this_data]).reshape(y_size)\n",
    "    \n",
    "    tmp_x = pick_x_data(np.array(this_data, copy=True))\n",
    "    tmp_x = np.array([int_to_matrix(i, gap) for i in tmp_x]).reshape(x_size)\n",
    "    \n",
    "    Y.append(tmp_y)\n",
    "    X.append(tmp_x)\n",
    "    \n",
    "    if len(X) > 1000:\n",
    "        gan.fit(X_inputs={gen_input: X, disc_input: Y}, Y_targets=None, n_epoch=100)\n",
    "        X = []\n",
    "        Y = []\n",
    "        \n",
    "    if (last_time_save + (60 * auto_save_time)) < time.time():\n",
    "        last_time_save = time.time()\n",
    "        gan.save(\"tmp_gan_64_save\")\n",
    "        \n",
    "        print(\"auto save\")\n",
    "        \n",
    "        # test code\n",
    "        break"
   ]
  },
  {
   "cell_type": "code",
   "execution_count": 13,
   "metadata": {},
   "outputs": [
    {
     "name": "stdout",
     "output_type": "stream",
     "text": [
      "INFO:tensorflow:Restoring parameters from /home/lewis/wave_test/tmp_gan_64_save\n"
     ]
    }
   ],
   "source": [
    "gan.load(\"tmp_gan_64_save\")\n",
    "\n",
    "test_real_data = pick_wave_data(x_wave, 88888)\n",
    "\n",
    "tmp = np.array([int_to_matrix(i, gap) for i in test_real_data]).reshape(y_size)\n",
    "\n",
    "tmp_x = pick_x_data(np.array(tmp, copy=True))\n",
    "\n",
    "gan_predict = gan.predict([[tmp_x]])"
   ]
  },
  {
   "cell_type": "code",
   "execution_count": 14,
   "metadata": {
    "collapsed": true,
    "scrolled": true
   },
   "outputs": [],
   "source": [
    "# [matrix_to_int(gan_predict[0][i:i+3], gap) for i in range(0, len(gan_predict[0]), 3)]"
   ]
  },
  {
   "cell_type": "code",
   "execution_count": 15,
   "metadata": {},
   "outputs": [
    {
     "ename": "ValueError",
     "evalue": "nan is not in list",
     "output_type": "error",
     "traceback": [
      "\u001b[0;31m---------------------------------------------------------------------------\u001b[0m",
      "\u001b[0;31mValueError\u001b[0m                                Traceback (most recent call last)",
      "\u001b[0;32m<ipython-input-15-7d44a3ecd193>\u001b[0m in \u001b[0;36m<module>\u001b[0;34m()\u001b[0m\n\u001b[1;32m      6\u001b[0m \u001b[0mplt\u001b[0m\u001b[0;34m.\u001b[0m\u001b[0mfigure\u001b[0m\u001b[0;34m(\u001b[0m\u001b[0;36m1\u001b[0m\u001b[0;34m)\u001b[0m\u001b[0;34m\u001b[0m\u001b[0m\n\u001b[1;32m      7\u001b[0m \u001b[0mplt\u001b[0m\u001b[0;34m.\u001b[0m\u001b[0mtitle\u001b[0m\u001b[0;34m(\u001b[0m\u001b[0;34m'wave_predict'\u001b[0m\u001b[0;34m)\u001b[0m\u001b[0;34m\u001b[0m\u001b[0m\n\u001b[0;32m----> 8\u001b[0;31m \u001b[0mplt\u001b[0m\u001b[0;34m.\u001b[0m\u001b[0mplot\u001b[0m\u001b[0;34m(\u001b[0m\u001b[0;34m[\u001b[0m\u001b[0mmatrix_to_int\u001b[0m\u001b[0;34m(\u001b[0m\u001b[0mgan_predict\u001b[0m\u001b[0;34m[\u001b[0m\u001b[0;36m0\u001b[0m\u001b[0;34m]\u001b[0m\u001b[0;34m[\u001b[0m\u001b[0mi\u001b[0m\u001b[0;34m:\u001b[0m\u001b[0mi\u001b[0m\u001b[0;34m+\u001b[0m\u001b[0;36m3\u001b[0m\u001b[0;34m]\u001b[0m\u001b[0;34m,\u001b[0m \u001b[0mgap\u001b[0m\u001b[0;34m)\u001b[0m \u001b[0;32mfor\u001b[0m \u001b[0mi\u001b[0m \u001b[0;32min\u001b[0m \u001b[0mrange\u001b[0m\u001b[0;34m(\u001b[0m\u001b[0;36m0\u001b[0m\u001b[0;34m,\u001b[0m \u001b[0mlen\u001b[0m\u001b[0;34m(\u001b[0m\u001b[0mgan_predict\u001b[0m\u001b[0;34m[\u001b[0m\u001b[0;36m0\u001b[0m\u001b[0;34m]\u001b[0m\u001b[0;34m)\u001b[0m\u001b[0;34m,\u001b[0m \u001b[0;36m3\u001b[0m\u001b[0;34m)\u001b[0m\u001b[0;34m]\u001b[0m\u001b[0;34m)\u001b[0m\u001b[0;34m\u001b[0m\u001b[0m\n\u001b[0m\u001b[1;32m      9\u001b[0m \u001b[0mplt\u001b[0m\u001b[0;34m.\u001b[0m\u001b[0mshow\u001b[0m\u001b[0;34m(\u001b[0m\u001b[0;34m)\u001b[0m\u001b[0;34m\u001b[0m\u001b[0m\n\u001b[1;32m     10\u001b[0m \u001b[0;34m\u001b[0m\u001b[0m\n",
      "\u001b[0;32m<ipython-input-15-7d44a3ecd193>\u001b[0m in \u001b[0;36m<listcomp>\u001b[0;34m(.0)\u001b[0m\n\u001b[1;32m      6\u001b[0m \u001b[0mplt\u001b[0m\u001b[0;34m.\u001b[0m\u001b[0mfigure\u001b[0m\u001b[0;34m(\u001b[0m\u001b[0;36m1\u001b[0m\u001b[0;34m)\u001b[0m\u001b[0;34m\u001b[0m\u001b[0m\n\u001b[1;32m      7\u001b[0m \u001b[0mplt\u001b[0m\u001b[0;34m.\u001b[0m\u001b[0mtitle\u001b[0m\u001b[0;34m(\u001b[0m\u001b[0;34m'wave_predict'\u001b[0m\u001b[0;34m)\u001b[0m\u001b[0;34m\u001b[0m\u001b[0m\n\u001b[0;32m----> 8\u001b[0;31m \u001b[0mplt\u001b[0m\u001b[0;34m.\u001b[0m\u001b[0mplot\u001b[0m\u001b[0;34m(\u001b[0m\u001b[0;34m[\u001b[0m\u001b[0mmatrix_to_int\u001b[0m\u001b[0;34m(\u001b[0m\u001b[0mgan_predict\u001b[0m\u001b[0;34m[\u001b[0m\u001b[0;36m0\u001b[0m\u001b[0;34m]\u001b[0m\u001b[0;34m[\u001b[0m\u001b[0mi\u001b[0m\u001b[0;34m:\u001b[0m\u001b[0mi\u001b[0m\u001b[0;34m+\u001b[0m\u001b[0;36m3\u001b[0m\u001b[0;34m]\u001b[0m\u001b[0;34m,\u001b[0m \u001b[0mgap\u001b[0m\u001b[0;34m)\u001b[0m \u001b[0;32mfor\u001b[0m \u001b[0mi\u001b[0m \u001b[0;32min\u001b[0m \u001b[0mrange\u001b[0m\u001b[0;34m(\u001b[0m\u001b[0;36m0\u001b[0m\u001b[0;34m,\u001b[0m \u001b[0mlen\u001b[0m\u001b[0;34m(\u001b[0m\u001b[0mgan_predict\u001b[0m\u001b[0;34m[\u001b[0m\u001b[0;36m0\u001b[0m\u001b[0;34m]\u001b[0m\u001b[0;34m)\u001b[0m\u001b[0;34m,\u001b[0m \u001b[0;36m3\u001b[0m\u001b[0;34m)\u001b[0m\u001b[0;34m]\u001b[0m\u001b[0;34m)\u001b[0m\u001b[0;34m\u001b[0m\u001b[0m\n\u001b[0m\u001b[1;32m      9\u001b[0m \u001b[0mplt\u001b[0m\u001b[0;34m.\u001b[0m\u001b[0mshow\u001b[0m\u001b[0;34m(\u001b[0m\u001b[0;34m)\u001b[0m\u001b[0;34m\u001b[0m\u001b[0m\n\u001b[1;32m     10\u001b[0m \u001b[0;34m\u001b[0m\u001b[0m\n",
      "\u001b[0;32m<ipython-input-4-abf6d7d97118>\u001b[0m in \u001b[0;36mmatrix_to_int\u001b[0;34m(matrix_int, gap)\u001b[0m\n\u001b[1;32m     12\u001b[0m \u001b[0;32mdef\u001b[0m \u001b[0mmatrix_to_int\u001b[0m\u001b[0;34m(\u001b[0m\u001b[0mmatrix_int\u001b[0m\u001b[0;34m,\u001b[0m \u001b[0mgap\u001b[0m\u001b[0;34m)\u001b[0m\u001b[0;34m:\u001b[0m\u001b[0;34m\u001b[0m\u001b[0m\n\u001b[1;32m     13\u001b[0m     \u001b[0mvalue\u001b[0m \u001b[0;34m=\u001b[0m \u001b[0mnp\u001b[0m\u001b[0;34m.\u001b[0m\u001b[0mamax\u001b[0m\u001b[0;34m(\u001b[0m\u001b[0mmatrix_int\u001b[0m\u001b[0;34m)\u001b[0m\u001b[0;34m\u001b[0m\u001b[0m\n\u001b[0;32m---> 14\u001b[0;31m     \u001b[0mindex\u001b[0m \u001b[0;34m=\u001b[0m \u001b[0mlist\u001b[0m\u001b[0;34m(\u001b[0m\u001b[0mmatrix_int\u001b[0m\u001b[0;34m)\u001b[0m\u001b[0;34m.\u001b[0m\u001b[0mindex\u001b[0m\u001b[0;34m(\u001b[0m\u001b[0mvalue\u001b[0m\u001b[0;34m)\u001b[0m\u001b[0;34m\u001b[0m\u001b[0m\n\u001b[0m\u001b[1;32m     15\u001b[0m \u001b[0;34m\u001b[0m\u001b[0m\n\u001b[1;32m     16\u001b[0m     \u001b[0;32mif\u001b[0m \u001b[0mindex\u001b[0m \u001b[0;34m==\u001b[0m \u001b[0;36m0\u001b[0m\u001b[0;34m:\u001b[0m\u001b[0;34m\u001b[0m\u001b[0m\n",
      "\u001b[0;31mValueError\u001b[0m: nan is not in list"
     ]
    }
   ],
   "source": [
    "# plt.figure(1)\n",
    "# plt.title('wave_predict')\n",
    "# plt.plot(np.array([[matrix_to_int(tmp_x[i:i+3], gap), 0, 0, 0] for i in range(0, len(tmp_x), 3)]).reshape(y_size))\n",
    "# plt.show()\n",
    "\n",
    "plt.figure(1)\n",
    "plt.title('wave_predict')\n",
    "plt.plot([matrix_to_int(gan_predict[0][i:i+3], gap) for i in range(0, len(gan_predict[0]), 3)])\n",
    "plt.show()\n",
    "\n",
    "plt.figure(1)\n",
    "plt.title('wave_real')\n",
    "plt.plot(test_real_data)\n",
    "plt.show()"
   ]
  },
  {
   "cell_type": "code",
   "execution_count": 13,
   "metadata": {},
   "outputs": [
    {
     "data": {
      "text/plain": [
       "192"
      ]
     },
     "execution_count": 13,
     "metadata": {},
     "output_type": "execute_result"
    }
   ],
   "source": []
  },
  {
   "cell_type": "code",
   "execution_count": null,
   "metadata": {
    "collapsed": true
   },
   "outputs": [],
   "source": []
  }
 ],
 "metadata": {
  "kernelspec": {
   "display_name": "Python 3",
   "language": "python",
   "name": "python3"
  },
  "language_info": {
   "codemirror_mode": {
    "name": "ipython",
    "version": 3
   },
   "file_extension": ".py",
   "mimetype": "text/x-python",
   "name": "python",
   "nbconvert_exporter": "python",
   "pygments_lexer": "ipython3",
   "version": "3.4.3"
  }
 },
 "nbformat": 4,
 "nbformat_minor": 2
}
