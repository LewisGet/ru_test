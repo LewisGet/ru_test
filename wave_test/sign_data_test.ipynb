{
 "cells": [
  {
   "cell_type": "code",
   "execution_count": null,
   "metadata": {},
   "outputs": [],
   "source": []
  },
  {
   "cell_type": "code",
   "execution_count": 1,
   "metadata": {
    "collapsed": true
   },
   "outputs": [],
   "source": [
    "data = [10, -9, 0, -20]"
   ]
  },
  {
   "cell_type": "code",
   "execution_count": 2,
   "metadata": {},
   "outputs": [
    {
     "name": "stdout",
     "output_type": "stream",
     "text": [
      "(10, -20, 20, [0.5, -0.45, 0.0, -1.0])\n"
     ]
    }
   ],
   "source": [
    "def data_gap_format(data):\n",
    "    hight_pitch, low_pitch, gap = 0, 0, 0\n",
    "\n",
    "    for i in data:\n",
    "        if i > hight_pitch and i > 0:\n",
    "            hight_pitch = i\n",
    "        if i < low_pitch and i < 0:\n",
    "            low_pitch = i\n",
    "\n",
    "    gap = hight_pitch if hight_pitch > (low_pitch * -1) else (low_pitch * -1)\n",
    "\n",
    "    return hight_pitch, low_pitch, gap, [i / gap for i in data]\n",
    "\n",
    "print (data_gap_format(data))"
   ]
  },
  {
   "cell_type": "code",
   "execution_count": 3,
   "metadata": {},
   "outputs": [
    {
     "name": "stdout",
     "output_type": "stream",
     "text": [
      "[10.0, -9.0, 0.0, -20.0]\n"
     ]
    }
   ],
   "source": [
    "def data_gap_resize(data, gap):\n",
    "    return [i * gap for i in data]\n",
    "\n",
    "_, _, gap, data = data_gap_format(data)\n",
    "\n",
    "print (data_gap_resize(data, gap))"
   ]
  },
  {
   "cell_type": "code",
   "execution_count": null,
   "metadata": {
    "collapsed": true
   },
   "outputs": [],
   "source": []
  }
 ],
 "metadata": {
  "kernelspec": {
   "display_name": "Python 3",
   "language": "python",
   "name": "python3"
  },
  "language_info": {
   "codemirror_mode": {
    "name": "ipython",
    "version": 3
   },
   "file_extension": ".py",
   "mimetype": "text/x-python",
   "name": "python",
   "nbconvert_exporter": "python",
   "pygments_lexer": "ipython3",
   "version": "3.4.3"
  }
 },
 "nbformat": 4,
 "nbformat_minor": 2
}
